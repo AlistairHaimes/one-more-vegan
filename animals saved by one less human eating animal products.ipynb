{
 "cells": [
  {
   "cell_type": "markdown",
   "id": "19182bd9",
   "metadata": {},
   "source": [
    "# How much would somebody converted to veganism via Twitter reduce demand for animal products?\n",
    "## To keep it simple, only looking at food rather than eg clothing"
   ]
  },
  {
   "cell_type": "code",
   "execution_count": 1,
   "id": "5fd57514",
   "metadata": {},
   "outputs": [],
   "source": [
    "import matplotlib.pyplot as plt\n",
    "import matplotlib.ticker as mtick\n",
    "import numpy as np\n",
    "import seaborn as sns\n",
    "\n",
    "from IPython.core.display import display, HTML"
   ]
  },
  {
   "cell_type": "markdown",
   "id": "4ee8da2d",
   "metadata": {},
   "source": [
    "prompted by Tweet:"
   ]
  },
  {
   "cell_type": "code",
   "execution_count": 2,
   "id": "2c283e46",
   "metadata": {},
   "outputs": [
    {
     "data": {
      "text/html": [
       "<img src=\"images/tweet.png\" , width=500/>"
      ],
      "text/plain": [
       "<IPython.core.display.HTML object>"
      ]
     },
     "metadata": {},
     "output_type": "display_data"
    }
   ],
   "source": [
    "display(HTML('<img src=\"images/tweet.png\" , width=500/>'))"
   ]
  },
  {
   "cell_type": "markdown",
   "id": "9b2f9858",
   "metadata": {},
   "source": [
    "### 1. Average lifespan - average age of Twitter user = years of animal consumption saved\n",
    "\n",
    "Average lifespan: presume the converted user is in US"
   ]
  },
  {
   "cell_type": "code",
   "execution_count": 3,
   "id": "2e9087e1",
   "metadata": {},
   "outputs": [
    {
     "data": {
      "text/html": [
       "<img src=\"https://api.backlinko.com/app/uploads/2021/05/twitter-users-by-country-768x584.webp\" title=\"Twitter users by country\" , width=500/>"
      ],
      "text/plain": [
       "<IPython.core.display.HTML object>"
      ]
     },
     "metadata": {},
     "output_type": "display_data"
    }
   ],
   "source": [
    "display(HTML('<img src=\"https://api.backlinko.com/app/uploads/2021/05/twitter-users-by-country-768x584.webp\" title=\"Twitter users by country\" , width=500/>'))"
   ]
  },
  {
   "cell_type": "markdown",
   "id": "0c0732f2",
   "metadata": {},
   "source": [
    "Average age of Twitter user (presume US is representative)\n",
    "https://www.statista.com/statistics/192703/age-distribution-of-users-on-twitter-in-the-united-states/"
   ]
  },
  {
   "cell_type": "code",
   "execution_count": 4,
   "id": "4f962ec1",
   "metadata": {},
   "outputs": [],
   "source": [
    "age_groups = {\n",
    "'13-17': 6.6,\n",
    "'18-24': 17.1,\n",
    "'25-34': 38.5,\n",
    "'35-49': 20.7,\n",
    "'50+': 17.1}"
   ]
  },
  {
   "cell_type": "code",
   "execution_count": 5,
   "id": "6d4746d9",
   "metadata": {},
   "outputs": [
    {
     "data": {
      "image/png": "[encoded data removed]",
      "text/plain": [
       "<Figure size 432x288 with 1 Axes>"
      ]
     },
     "metadata": {
      "needs_background": "light"
     },
     "output_type": "display_data"
    }
   ],
   "source": [
    "labels = age_groups.keys()\n",
    "y_pos = np.arange(len(labels))\n",
    "values = age_groups.values()\n",
    "\n",
    "ax = plt.bar(y_pos, values, align='center', alpha=0.8)\n",
    "plt.xticks(y_pos, labels)\n",
    "plt.ylabel('%')\n",
    "plt.title('Twitter users by age')\n",
    "\n",
    "plt.show()"
   ]
  },
  {
   "cell_type": "code",
   "execution_count": 6,
   "id": "b61bf9ff",
   "metadata": {},
   "outputs": [
    {
     "name": "stdout",
     "output_type": "stream",
     "text": [
      "Average age of Twitter user: 31 years old\n"
     ]
    }
   ],
   "source": [
    "# simplified: linear interpolation to get average age\n",
    "before_median = age_groups['13-17'] + age_groups['18-24']\n",
    "average_age_twt_user = (((50 - before_median) / age_groups['25-34']) * (34-24)) + 24\n",
    "print(f\"Average age of Twitter user: {average_age_twt_user:.0f} years old\")"
   ]
  },
  {
   "cell_type": "markdown",
   "id": "f01975f0",
   "metadata": {},
   "source": [
    "average life expectancy (remaining lifespan) of a 31-year old American is 47.5 years: 45 years for men, 50 years for women\n",
    "https://www.health.ny.gov/health_care/medicaid/publications/docs/adm/06adm-5att8.pdf\n",
    "![image.png](images/life_expectancy.png)"
   ]
  },
  {
   "cell_type": "code",
   "execution_count": 7,
   "id": "b0371b3c",
   "metadata": {},
   "outputs": [],
   "source": [
    "life_expectancy = 47.5"
   ]
  },
  {
   "cell_type": "markdown",
   "id": "ceb84982",
   "metadata": {},
   "source": [
    "### consumption of beef, dairy, lamb, chicken, eggs\n",
    "\n",
    "https://www.nationalchickencouncil.org/about-the-industry/statistics/per-capita-consumption-of-poultry-and-livestock-1965-to-estimated-2012-in-pounds/\n",
    "\n",
    "fish from https://aboutseafood.com/about/top-ten-list-for-seafood-consumption/"
   ]
  },
  {
   "cell_type": "code",
   "execution_count": 8,
   "id": "d8cba367",
   "metadata": {},
   "outputs": [],
   "source": [
    "labels = ['Beef', 'Pork', 'Chicken', 'Turkey', 'Fish & Shell-Fish']\n",
    "values = [57., 49.9, 98.8, 15.3, 16.1]\n",
    "animal_pounds_consumed = dict(zip(labels, values))"
   ]
  },
  {
   "cell_type": "code",
   "execution_count": 9,
   "id": "9cbae169",
   "metadata": {},
   "outputs": [
    {
     "data": {
      "text/plain": [
       "{'Beef': 57.0,\n",
       " 'Pork': 49.9,\n",
       " 'Chicken': 98.8,\n",
       " 'Turkey': 15.3,\n",
       " 'Fish & Shell-Fish': 16.1}"
      ]
     },
     "execution_count": 9,
     "metadata": {},
     "output_type": "execute_result"
    }
   ],
   "source": [
    "animal_pounds_consumed"
   ]
  },
  {
   "cell_type": "code",
   "execution_count": 25,
   "id": "37fe7fdd",
   "metadata": {},
   "outputs": [
    {
     "data": {
      "image/png": "[encoded data removed]",
      "text/plain": [
       "<Figure size 432x288 with 1 Axes>"
      ]
     },
     "metadata": {
      "needs_background": "light"
     },
     "output_type": "display_data"
    }
   ],
   "source": [
    "labels = animal_pounds_consumed.keys()\n",
    "y_pos = np.arange(len(labels))\n",
    "values = animal_pounds_consumed.values()\n",
    "\n",
    "ax = plt.bar(y_pos, values, align='center', alpha=0.8)\n",
    "plt.bar_label(ax, label_type = 'center', padding=0)\n",
    "plt.xticks(y_pos, labels)\n",
    "plt.ylabel('pounds consumed per year')\n",
    "plt.title('US: animal meat consumed per year, lbs')\n",
    "\n",
    "plt.show()"
   ]
  },
  {
   "cell_type": "code",
   "execution_count": 10,
   "id": "aec444a8",
   "metadata": {},
   "outputs": [],
   "source": [
    "#https://www.statista.com/statistics/183678/per-capita-consumption-of-eggs-in-the-us-since-2000/\n",
    "eggs = 285 # units"
   ]
  },
  {
   "cell_type": "code",
   "execution_count": 11,
   "id": "a4b97a21",
   "metadata": {},
   "outputs": [],
   "source": [
    "# https://unitedegg.com/facts-stats/#:~:text=U.S.%20Egg%20Production%20and%20Hen%20Population&text=The%20U.S.%20had%20325%20million,produces%20296%20eggs%20per%20year.\n",
    "eggs_per_chicken_per_year = 296"
   ]
  },
  {
   "cell_type": "code",
   "execution_count": 12,
   "id": "474db686",
   "metadata": {},
   "outputs": [],
   "source": [
    "# https://www.idfa.org/news/u-s-dairy-consumption-beats-expectations-in-2020-and-continues-to-surge-upward-despite-disruption-caused-by-pandemic#:~:text=Last%20year%2C%20the%20average%20American,person%20over%20the%20previous%20year.\n",
    "dairy = 655 # lbs"
   ]
  },
  {
   "cell_type": "code",
   "execution_count": 13,
   "id": "38b8b1cf",
   "metadata": {},
   "outputs": [],
   "source": [
    "# https://www.statista.com/statistics/194935/quantity-of-milk-produced-per-cow-in-the-us-since-1999/\n",
    "milk_per_cow_pa = 24265"
   ]
  },
  {
   "cell_type": "code",
   "execution_count": 14,
   "id": "cb9927fa",
   "metadata": {},
   "outputs": [],
   "source": [
    "dairy_life = 4 # years of milking before slaughter (assuming milk from 2 years, slaughtered at 6)"
   ]
  },
  {
   "cell_type": "code",
   "execution_count": 15,
   "id": "4083ed5e",
   "metadata": {},
   "outputs": [],
   "source": [
    "# assume (crudely) that 10% of beef is cull dairy, so as not to overcount\n",
    "# https://academic.oup.com/jas/article-abstract/99/7/skab192/6298574\n",
    "# not currently used, but will be if more sophisticated\n",
    "cull_dairy = .1"
   ]
  },
  {
   "cell_type": "code",
   "execution_count": 16,
   "id": "1c0f671e",
   "metadata": {},
   "outputs": [],
   "source": [
    "# https://www.telegraph.co.uk/news/earth/earthnews/3353985/One-third-of-fish-caught-worldwide-used-as-animal-feed.html#:~:text=One%2Dthird%20of%20fish%20caught,directly%20nourish%20humans%2C%20scientists%20claim.\n",
    "# not currently used, but will be if more sophisticated\n",
    "fish_animal_feed = 1/3"
   ]
  },
  {
   "cell_type": "code",
   "execution_count": 17,
   "id": "5bf0fe65",
   "metadata": {},
   "outputs": [],
   "source": [
    "# https://aboutseafood.com/about/top-ten-list-for-seafood-consumption/\n",
    "fish_consumed = { # all in lbs per year\n",
    "    'shrimp':4.6,\n",
    "    'salmon':2.55,\n",
    "    'tuna':2.1,\n",
    "}\n",
    "total_fish_consumed = 16.1"
   ]
  },
  {
   "cell_type": "code",
   "execution_count": 18,
   "id": "499c6c37",
   "metadata": {},
   "outputs": [],
   "source": [
    "fish_consumed['other'] = (1 - (sum(fish_consumed.values()) / total_fish_consumed)) * total_fish_consumed"
   ]
  },
  {
   "cell_type": "code",
   "execution_count": 19,
   "id": "9c27b16d",
   "metadata": {},
   "outputs": [
    {
     "data": {
      "text/plain": [
       "True"
      ]
     },
     "execution_count": 19,
     "metadata": {},
     "output_type": "execute_result"
    }
   ],
   "source": [
    "sum(fish_consumed.values()) == total_fish_consumed"
   ]
  },
  {
   "cell_type": "code",
   "execution_count": 20,
   "id": "b7cffce6",
   "metadata": {},
   "outputs": [],
   "source": [
    "fish_weights_lbs = {\n",
    "    'shrimp': (1/45), # https://stripedspatula.com/shrimp-sizes/\n",
    "    'salmon': 10, # https://www.fws.gov/fisheries/freshwater-fish-of-america/atlantic_salmon.html\n",
    "    'tuna': 200, # https://www.mass.gov/service-details/learn-about-atlantic-bluefin-tuna\n",
    "    'other': 2, # guess, given makeup\n",
    "}"
   ]
  },
  {
   "cell_type": "code",
   "execution_count": 21,
   "id": "b9914f65",
   "metadata": {},
   "outputs": [],
   "source": [
    "# calculated weighted average weight fish & shellfish\n",
    "fish_consumed_per_year = dict()\n",
    "for fish, weight in fish_consumed.items():\n",
    "    fish_consumed_per_year[fish] = weight / fish_weights_lbs[fish]"
   ]
  },
  {
   "cell_type": "code",
   "execution_count": 22,
   "id": "56447947",
   "metadata": {},
   "outputs": [
    {
     "data": {
      "text/plain": [
       "{'shrimp': 206.99999999999997,\n",
       " 'salmon': 0.255,\n",
       " 'tuna': 0.0105,\n",
       " 'other': 3.425000000000001}"
      ]
     },
     "execution_count": 22,
     "metadata": {},
     "output_type": "execute_result"
    }
   ],
   "source": [
    "fish_consumed_per_year"
   ]
  },
  {
   "cell_type": "code",
   "execution_count": 23,
   "id": "08f7778a",
   "metadata": {},
   "outputs": [
    {
     "data": {
      "image/png": "[encoded data removed]",
      "text/plain": [
       "<Figure size 432x288 with 1 Axes>"
      ]
     },
     "metadata": {
      "needs_background": "light"
     },
     "output_type": "display_data"
    }
   ],
   "source": [
    "labels = fish_consumed_per_year.keys()\n",
    "y_pos = np.arange(len(labels))\n",
    "values = fish_consumed_per_year.values()\n",
    "\n",
    "ax = plt.bar(y_pos, values, align='center', alpha=0.8)\n",
    "plt.bar_label(ax, label_type = 'center', padding=8)\n",
    "plt.xticks(y_pos, labels)\n",
    "plt.ylabel('fish per year')\n",
    "plt.title('US: fish consumed per year')\n",
    "\n",
    "plt.show()"
   ]
  },
  {
   "cell_type": "code",
   "execution_count": 36,
   "id": "4d45362f",
   "metadata": {},
   "outputs": [],
   "source": [
    "# carcass weights deboned and trimmed, in lbs\n",
    "carcass_weights = {\n",
    "    'Beef': 500, # https://extension.tennessee.edu/publications/documents/pb1822.pdf\n",
    "    'Pork': 140, # https://www.gourmetsleuth.com/articles/detail/pork-cut-yield-per-hog\n",
    "    'Chicken': 3, # http://jaysonlusk.com/blog/2021/6/17/beef-chicken-and-carbon - assume 3lbs meat from 4.5lbs carcass\n",
    "    'Turkey': 8, # https://www.forbes.com/sites/bethhoffman/2012/11/16/stop-buy-a-smaller-turkey/\n",
    "}"
   ]
  },
  {
   "cell_type": "code",
   "execution_count": 39,
   "id": "13ea9677",
   "metadata": {},
   "outputs": [
    {
     "name": "stdout",
     "output_type": "stream",
     "text": [
      "cows not killed per person: 6.7\n"
     ]
    }
   ],
   "source": [
    "cows_saved_per_year = animal_pounds_consumed['Beef'] / carcass_weights['Beef']\n",
    "cows_saved = cows_saved_per_year * life_expectancy\n",
    "\n",
    "# this is from beef, now calculated dairy\n",
    "dairy_cows_saved = dairy / milk_per_cow_pa * life_expectancy\n",
    "\n",
    "total_cows_saved = cows_saved + dairy_cows_saved\n",
    "print(f\"cows not killed per person: {total_cows_saved:.1f}\")"
   ]
  },
  {
   "cell_type": "code",
   "execution_count": 41,
   "id": "13054fc4",
   "metadata": {},
   "outputs": [
    {
     "name": "stdout",
     "output_type": "stream",
     "text": [
      "pigs not killed per person: 16.9\n"
     ]
    }
   ],
   "source": [
    "pigs_saved_per_year = animal_pounds_consumed['Pork'] / carcass_weights['Pork']\n",
    "pigs_saved = pigs_saved_per_year * life_expectancy\n",
    "print(f\"pigs not killed per person: {pigs_saved:.1f}\")"
   ]
  },
  {
   "cell_type": "code",
   "execution_count": 43,
   "id": "1a8256e6",
   "metadata": {},
   "outputs": [
    {
     "name": "stdout",
     "output_type": "stream",
     "text": [
      "chickens not killed per person: 1610, of which 1564 from meat and 46 from eggs\n"
     ]
    }
   ],
   "source": [
    "chickens_saved_per_year = animal_pounds_consumed['Chicken'] / carcass_weights['Chicken']\n",
    "chickens_saved = chickens_saved_per_year * life_expectancy\n",
    "\n",
    "# add layers saved\n",
    "layers_saved_per_year = eggs / eggs_per_chicken_per_year\n",
    "layers_saved = layers_saved_per_year * life_expectancy\n",
    "\n",
    "total_chickens_saved = chickens_saved + layers_saved\n",
    "print(f\"chickens not killed per person: {total_chickens_saved:.0f}, of which {chickens_saved:.0f} from meat and {layers_saved:.0f} from eggs\")"
   ]
  },
  {
   "cell_type": "code",
   "execution_count": 46,
   "id": "3dfb4df9",
   "metadata": {},
   "outputs": [
    {
     "name": "stdout",
     "output_type": "stream",
     "text": [
      "shrimp consumed per year: 207\n",
      "fish consumed per year: 3.7\n",
      "\n",
      "shrimp not killed per person: 9832.5\n",
      "salmon not killed per person: 12.1\n",
      "tuna not killed per person: 0.5\n",
      "other not killed per person: 162.7\n"
     ]
    }
   ],
   "source": [
    "total_fish_and_shellfish_consumed_per_year = sum(fish_consumed_per_year.values())\n",
    "print(f\"shrimp consumed per year: {fish_consumed_per_year['shrimp']:.0f}\")\n",
    "print(f\"fish consumed per year: {(total_fish_and_shellfish_consumed_per_year - fish_consumed_per_year['shrimp']):.1f}\\n\")\n",
    "total_fish_and_shellfish_saved = total_fish_and_shellfish_consumed_per_year * life_expectancy\n",
    "for fish, pa in fish_consumed_per_year.items():\n",
    "    print(f\"{fish} not killed per person: {(pa * life_expectancy):.1f}\")"
   ]
  },
  {
   "cell_type": "code",
   "execution_count": 50,
   "id": "75ea8d47",
   "metadata": {},
   "outputs": [
    {
     "data": {
      "text/plain": [
       "175.29875000000067"
      ]
     },
     "execution_count": 50,
     "metadata": {},
     "output_type": "execute_result"
    }
   ],
   "source": [
    "(sum(fish_consumed_per_year.values()) - fish_consumed_per_year['shrimp']) * life_expectancy"
   ]
  },
  {
   "cell_type": "code",
   "execution_count": 59,
   "id": "f089d4cb",
   "metadata": {},
   "outputs": [
    {
     "data": {
      "image/png": "[encoded data removed]",
      "text/plain": [
       "<Figure size 432x288 with 1 Axes>"
      ]
     },
     "metadata": {
      "needs_background": "light"
     },
     "output_type": "display_data"
    }
   ],
   "source": [
    "to_chart = {\n",
    "    'shrimp': fish_consumed_per_year['shrimp'] * life_expectancy,\n",
    "    'chicken': total_chickens_saved,\n",
    "    'pigs': pigs_saved,\n",
    "    'cows': total_cows_saved,\n",
    "    'fish': (sum(fish_consumed_per_year.values()) - fish_consumed_per_year['shrimp']) * life_expectancy,\n",
    "}\n",
    "labels = to_chart.keys()\n",
    "y_pos = np.arange(len(labels))\n",
    "values = to_chart.values()\n",
    "\n",
    "ax = plt.bar(y_pos, values, align='center', alpha=0.8)\n",
    "plt.bar_label(ax, label_type = 'center', padding=8, fmt=\"%.0f\")\n",
    "plt.xticks(y_pos, labels)\n",
    "plt.ylabel('not consumed over remaining lifespan')\n",
    "plt.title('Animals not consumed over remaining lifespan')\n",
    "\n",
    "plt.show()"
   ]
  }
 ],
 "metadata": {
  "kernelspec": {
   "display_name": "Python 3 (ipykernel)",
   "language": "python",
   "name": "python3"
  },
  "language_info": {
   "codemirror_mode": {
    "name": "ipython",
    "version": 3
   },
   "file_extension": ".py",
   "mimetype": "text/x-python",
   "name": "python",
   "nbconvert_exporter": "python",
   "pygments_lexer": "ipython3",
   "version": "3.9.7"
  }
 },
 "nbformat": 4,
 "nbformat_minor": 5
}
