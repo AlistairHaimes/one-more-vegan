{
 "cells": [
  {
   "cell_type": "markdown",
   "id": "19182bd9",
   "metadata": {},
   "source": [
    "# How much would somebody converted to veganism via Twitter reduce demand for animal products?\n",
    "## To keep it simple, only looking at food rather than eg clothing"
   ]
  },
  {
   "cell_type": "code",
   "execution_count": 1,
   "id": "5fd57514",
   "metadata": {},
   "outputs": [],
   "source": [
    "import matplotlib.pyplot as plt\n",
    "import matplotlib.ticker as mtick\n",
    "import numpy as np\n",
    "import seaborn as sns\n",
    "\n",
    "from IPython.core.display import display, HTML"
   ]
  },
  {
   "cell_type": "markdown",
   "id": "65861db3",
   "metadata": {},
   "source": [
    "prompted by Tweet:"
   ]
  },
  {
   "cell_type": "code",
   "execution_count": 3,
   "id": "5fa6c263",
   "metadata": {},
   "outputs": [
    {
     "data": {
      "text/html": [
       "<img src=\"images/tweet.png\" , width=500/>"
      ],
      "text/plain": [
       "<IPython.core.display.HTML object>"
      ]
     },
     "metadata": {},
     "output_type": "display_data"
    }
   ],
   "source": [
    "display(HTML('<img src=\"images/tweet.png\" , width=500/>'))"
   ]
  },
  {
   "cell_type": "markdown",
   "id": "9b2f9858",
   "metadata": {},
   "source": [
    "### 1. Average lifespan - average age of Twitter user = years of animal consumption saved\n",
    "\n",
    "Average lifespan: presume the converted user is in US"
   ]
  },
  {
   "cell_type": "code",
   "execution_count": 4,
   "id": "2e9087e1",
   "metadata": {},
   "outputs": [
    {
     "data": {
      "text/html": [
       "<img src=\"https://api.backlinko.com/app/uploads/2021/05/twitter-users-by-country-768x584.webp\" title=\"Twitter users by country\" , width=500/>"
      ],
      "text/plain": [
       "<IPython.core.display.HTML object>"
      ]
     },
     "metadata": {},
     "output_type": "display_data"
    }
   ],
   "source": [
    "display(HTML('<img src=\"https://api.backlinko.com/app/uploads/2021/05/twitter-users-by-country-768x584.webp\" title=\"Twitter users by country\" , width=500/>'))"
   ]
  },
  {
   "cell_type": "markdown",
   "id": "0c0732f2",
   "metadata": {},
   "source": [
    "Average age of Twitter user (presume US is representative)\n",
    "https://www.statista.com/statistics/192703/age-distribution-of-users-on-twitter-in-the-united-states/"
   ]
  },
  {
   "cell_type": "code",
   "execution_count": 5,
   "id": "4f962ec1",
   "metadata": {},
   "outputs": [],
   "source": [
    "age_groups = {\n",
    "'13-17': 6.6,\n",
    "'18-24': 17.1,\n",
    "'25-34': 38.5,\n",
    "'35-49': 20.7,\n",
    "'50+': 17.1}"
   ]
  },
  {
   "cell_type": "code",
   "execution_count": 6,
   "id": "6d4746d9",
   "metadata": {},
   "outputs": [
    {
     "data": {
      "image/png": "[encoded data removed]",
      "text/plain": [
       "<Figure size 432x288 with 1 Axes>"
      ]
     },
     "metadata": {
      "needs_background": "light"
     },
     "output_type": "display_data"
    }
   ],
   "source": [
    "labels = [x for x in age_groups]\n",
    "y_pos = np.arange(len(labels))\n",
    "values = [age_groups[label] for label in labels]\n",
    "\n",
    "ax = plt.bar(y_pos, values, align='center', alpha=0.8)\n",
    "plt.xticks(y_pos, labels)\n",
    "plt.ylabel('%')\n",
    "plt.title('Twitter users by age')\n",
    "\n",
    "plt.show()"
   ]
  },
  {
   "cell_type": "code",
   "execution_count": 7,
   "id": "b61bf9ff",
   "metadata": {},
   "outputs": [
    {
     "name": "stdout",
     "output_type": "stream",
     "text": [
      "Average age of Twitter user: 31 years old\n"
     ]
    }
   ],
   "source": [
    "# simplified: linear interpolation to get average age\n",
    "before_median = age_groups['13-17'] + age_groups['18-24']\n",
    "average_age_twt_user = (((50 - before_median) / age_groups['25-34']) * (34-24)) + 24\n",
    "print(f\"Average age of Twitter user: {average_age_twt_user:.0f} years old\")"
   ]
  },
  {
   "attachments": {},
   "cell_type": "markdown",
   "id": "f01975f0",
   "metadata": {},
   "source": [
    "average life expectancy (remaining lifespan) of a 31-year old American is 47.5 years: 45 years for men, 50 years for women\n",
    "https://www.health.ny.gov/health_care/medicaid/publications/docs/adm/06adm-5att8.pdf\n",
    "![image.png](images/life_expectancy.png)"
   ]
  },
  {
   "cell_type": "code",
   "execution_count": 78,
   "id": "b0371b3c",
   "metadata": {},
   "outputs": [],
   "source": [
    "life_expectancy = 47.5"
   ]
  },
  {
   "cell_type": "markdown",
   "id": "ceb84982",
   "metadata": {},
   "source": [
    "### consumption of beef, dairy, lamb, chicken, eggs\n",
    "\n",
    "https://www.nationalchickencouncil.org/about-the-industry/statistics/per-capita-consumption-of-poultry-and-livestock-1965-to-estimated-2012-in-pounds/\n",
    "\n",
    "fish from https://aboutseafood.com/about/top-ten-list-for-seafood-consumption/"
   ]
  },
  {
   "cell_type": "code",
   "execution_count": 113,
   "id": "d8cba367",
   "metadata": {},
   "outputs": [],
   "source": [
    "labels = ['Beef', 'Pork', 'Chicken', 'Turkey', 'Fish & Shell-Fish']\n",
    "values = [57., 49.9, 98.8, 15.3, 16.1]\n",
    "animal_pounds_consumed = dict(zip(labels, values))"
   ]
  },
  {
   "cell_type": "code",
   "execution_count": 114,
   "id": "9cbae169",
   "metadata": {},
   "outputs": [
    {
     "data": {
      "text/plain": [
       "{'Beef': 57.0,\n",
       " 'Pork': 49.9,\n",
       " 'Chicken': 98.8,\n",
       " 'Turkey': 15.3,\n",
       " 'Fish & Shell-Fish': 16.1}"
      ]
     },
     "execution_count": 114,
     "metadata": {},
     "output_type": "execute_result"
    }
   ],
   "source": [
    "animal_pounds_consumed"
   ]
  },
  {
   "cell_type": "code",
   "execution_count": 88,
   "id": "aec444a8",
   "metadata": {},
   "outputs": [],
   "source": [
    "#https://www.statista.com/statistics/183678/per-capita-consumption-of-eggs-in-the-us-since-2000/\n",
    "eggs = 285 # units"
   ]
  },
  {
   "cell_type": "code",
   "execution_count": 134,
   "id": "a4b97a21",
   "metadata": {},
   "outputs": [],
   "source": [
    "# https://unitedegg.com/facts-stats/#:~:text=U.S.%20Egg%20Production%20and%20Hen%20Population&text=The%20U.S.%20had%20325%20million,produces%20296%20eggs%20per%20year.\n",
    "eggs_per_chicken_per_year = 296"
   ]
  },
  {
   "cell_type": "code",
   "execution_count": 85,
   "id": "474db686",
   "metadata": {},
   "outputs": [],
   "source": [
    "# https://www.idfa.org/news/u-s-dairy-consumption-beats-expectations-in-2020-and-continues-to-surge-upward-despite-disruption-caused-by-pandemic#:~:text=Last%20year%2C%20the%20average%20American,person%20over%20the%20previous%20year.\n",
    "dairy = 655 # lbs"
   ]
  },
  {
   "cell_type": "code",
   "execution_count": 141,
   "id": "38b8b1cf",
   "metadata": {},
   "outputs": [],
   "source": [
    "# https://www.statista.com/statistics/194935/quantity-of-milk-produced-per-cow-in-the-us-since-1999/\n",
    "milk_per_cow_pa = 24265"
   ]
  },
  {
   "cell_type": "code",
   "execution_count": 138,
   "id": "cb9927fa",
   "metadata": {},
   "outputs": [],
   "source": [
    "dairy_life = 4 # years of milking before slaughter (assuming milk from 2 years, slaughtered at 6)"
   ]
  },
  {
   "cell_type": "code",
   "execution_count": 139,
   "id": "4083ed5e",
   "metadata": {},
   "outputs": [],
   "source": [
    "# assume (crudely) that 10% of beef is cull dairy, so as not to overcount\n",
    "# https://academic.oup.com/jas/article-abstract/99/7/skab192/6298574\n",
    "cull_dairy = .1"
   ]
  },
  {
   "cell_type": "code",
   "execution_count": 93,
   "id": "1c0f671e",
   "metadata": {},
   "outputs": [],
   "source": [
    "# https://www.telegraph.co.uk/news/earth/earthnews/3353985/One-third-of-fish-caught-worldwide-used-as-animal-feed.html#:~:text=One%2Dthird%20of%20fish%20caught,directly%20nourish%20humans%2C%20scientists%20claim.\n",
    "fish_animal_feed = 1/3"
   ]
  },
  {
   "cell_type": "code",
   "execution_count": 169,
   "id": "5bf0fe65",
   "metadata": {},
   "outputs": [],
   "source": [
    "# https://aboutseafood.com/about/top-ten-list-for-seafood-consumption/\n",
    "fish_consumed = {\n",
    "    'shrimp':4.6,\n",
    "    'salmon':2.55,\n",
    "    'tuna':2.1,\n",
    "}\n",
    "total_fish_consumed = 16.1"
   ]
  },
  {
   "cell_type": "code",
   "execution_count": 170,
   "id": "499c6c37",
   "metadata": {},
   "outputs": [],
   "source": [
    "fish_consumed['other'] = (1 - (sum(fish_consumed.values()) / total_fish_consumed)) * total_fish_consumed"
   ]
  },
  {
   "cell_type": "code",
   "execution_count": 171,
   "id": "9c27b16d",
   "metadata": {},
   "outputs": [
    {
     "data": {
      "text/plain": [
       "True"
      ]
     },
     "execution_count": 171,
     "metadata": {},
     "output_type": "execute_result"
    }
   ],
   "source": [
    "sum(fish_consumed.values()) == total_fish_consumed"
   ]
  },
  {
   "cell_type": "code",
   "execution_count": 173,
   "id": "b7cffce6",
   "metadata": {},
   "outputs": [],
   "source": [
    "fish_weights_lbs = {\n",
    "    'shrimp': (1/45), # https://stripedspatula.com/shrimp-sizes/\n",
    "    'salmon': 10, # https://www.fws.gov/fisheries/freshwater-fish-of-america/atlantic_salmon.html\n",
    "    'tuna': 200, # https://www.mass.gov/service-details/learn-about-atlantic-bluefin-tuna\n",
    "    'other': 2, # guess, given makeup\n",
    "}"
   ]
  },
  {
   "cell_type": "code",
   "execution_count": 174,
   "id": "b9914f65",
   "metadata": {},
   "outputs": [],
   "source": [
    "# calculated weighted average weight fish & shellfish\n",
    "fish_consumed_per_year = dict()\n",
    "for fish, weight in fish_consumed.items():\n",
    "    fish_consumed_per_year[fish] = weight / fish_weights_lbs[fish]"
   ]
  },
  {
   "cell_type": "code",
   "execution_count": 185,
   "id": "56447947",
   "metadata": {},
   "outputs": [
    {
     "data": {
      "text/plain": [
       "{'shrimp': 206.99999999999997,\n",
       " 'salmon': 0.255,\n",
       " 'tuna': 0.0105,\n",
       " 'other': 3.425000000000001}"
      ]
     },
     "execution_count": 185,
     "metadata": {},
     "output_type": "execute_result"
    }
   ],
   "source": [
    "fish_consumed_per_year"
   ]
  },
  {
   "cell_type": "code",
   "execution_count": 195,
   "id": "08f7778a",
   "metadata": {},
   "outputs": [
    {
     "data": {
      "image/png": "[encoded data removed]",
      "text/plain": [
       "<Figure size 432x288 with 1 Axes>"
      ]
     },
     "metadata": {
      "needs_background": "light"
     },
     "output_type": "display_data"
    }
   ],
   "source": [
    "labels = fish_consumed_per_year.keys()\n",
    "y_pos = np.arange(len(labels))\n",
    "values = [fish_consumed_per_year[label] for label in labels]\n",
    "\n",
    "ax = plt.bar(y_pos, values, align='center', alpha=0.8)\n",
    "plt.bar_label(ax, label_type = 'center', padding=8)\n",
    "plt.xticks(y_pos, labels)\n",
    "plt.ylabel('fish per year')\n",
    "plt.title('US: fish consumed per year')\n",
    "\n",
    "plt.show()"
   ]
  },
  {
   "cell_type": "code",
   "execution_count": 196,
   "id": "658e82ab",
   "metadata": {},
   "outputs": [],
   "source": [
    "total_fish_and_shellfish_consumed_per_year = sum(fish_consumed_per_year.values())"
   ]
  },
  {
   "cell_type": "code",
   "execution_count": 197,
   "id": "063ea20d",
   "metadata": {},
   "outputs": [
    {
     "data": {
      "text/plain": [
       "210.6905"
      ]
     },
     "execution_count": 197,
     "metadata": {},
     "output_type": "execute_result"
    }
   ],
   "source": [
    "total_fish_and_shellfish_consumed_per_year"
   ]
  },
  {
   "cell_type": "code",
   "execution_count": 198,
   "id": "4d45362f",
   "metadata": {},
   "outputs": [],
   "source": [
    "# carcass weights deboned and trimmed\n",
    "carcass_weights = {\n",
    "    'Beef': 500, # https://extension.tennessee.edu/publications/documents/pb1822.pdf\n",
    "    'Pork': 140, # https://www.gourmetsleuth.com/articles/detail/pork-cut-yield-per-hog\n",
    "    'Chicken': 3, # http://jaysonlusk.com/blog/2021/6/17/beef-chicken-and-carbon - assume 3lbs meat from 4.5lbs carcass\n",
    "    'Turkey': 8, # https://www.forbes.com/sites/bethhoffman/2012/11/16/stop-buy-a-smaller-turkey/\n",
    "    #'Fish & Shell-Fish':\n",
    "    \n",
    "}"
   ]
  },
  {
   "cell_type": "code",
   "execution_count": 221,
   "id": "13ea9677",
   "metadata": {},
   "outputs": [
    {
     "data": {
      "text/plain": [
       "6.697196579435401"
      ]
     },
     "execution_count": 221,
     "metadata": {},
     "output_type": "execute_result"
    }
   ],
   "source": [
    "cows_saved_per_year = animal_pounds_consumed['Beef'] / carcass_weights['Beef']\n",
    "cows_saved = cows_saved_per_year * life_expectancy\n",
    "\n",
    "# this is from beef, now calculated dairy\n",
    "dairy_cows_saved = dairy / milk_per_cow_pa * life_expectancy\n",
    "\n",
    "total_cows_saved = cows_saved + dairy_cows_saved\n",
    "total_cows_saved"
   ]
  },
  {
   "cell_type": "code",
   "execution_count": 222,
   "id": "13054fc4",
   "metadata": {},
   "outputs": [
    {
     "data": {
      "text/plain": [
       "16.930357142857144"
      ]
     },
     "execution_count": 222,
     "metadata": {},
     "output_type": "execute_result"
    }
   ],
   "source": [
    "pigs_saved_per_year = animal_pounds_consumed['Pork'] / carcass_weights['Pork']\n",
    "pigs_saved = pigs_saved_per_year * life_expectancy\n",
    "pigs_saved"
   ]
  },
  {
   "cell_type": "code",
   "execution_count": 227,
   "id": "1a8256e6",
   "metadata": {},
   "outputs": [
    {
     "data": {
      "text/plain": [
       "1610.0681306306305"
      ]
     },
     "execution_count": 227,
     "metadata": {},
     "output_type": "execute_result"
    }
   ],
   "source": [
    "chickens_saved_per_year = animal_pounds_consumed['Chicken'] / carcass_weights['Chicken']\n",
    "chickens_saved = chickens_saved_per_year * life_expectancy\n",
    "\n",
    "# add layers saved\n",
    "layers_saved_per_year = eggs / eggs_per_chicken_per_year\n",
    "layers_saved = layers_saved_per_year * life_expectancy\n",
    "\n",
    "chickens_saved = chickens_saved + layers_saved\n",
    "chickens_saved"
   ]
  },
  {
   "cell_type": "code",
   "execution_count": 228,
   "id": "de14e730",
   "metadata": {},
   "outputs": [
    {
     "data": {
      "text/plain": [
       "10007.79875"
      ]
     },
     "execution_count": 228,
     "metadata": {},
     "output_type": "execute_result"
    }
   ],
   "source": [
    "total_fish_and_shellfish_saved = total_fish_and_shellfish_consumed_per_year * life_expectancy\n",
    "total_fish_and_shellfish_saved"
   ]
  },
  {
   "cell_type": "code",
   "execution_count": 219,
   "id": "3dfb4df9",
   "metadata": {},
   "outputs": [
    {
     "name": "stdout",
     "output_type": "stream",
     "text": [
      "shrimp: 9832.5\n",
      "salmon: 12.1\n",
      "tuna: 0.5\n",
      "other: 162.7\n"
     ]
    }
   ],
   "source": [
    "for fish, pa in fish_consumed_per_year.items():\n",
    "    print(f\"{fish}: {(pa * life_expectancy):.1f}\")"
   ]
  },
  {
   "cell_type": "code",
   "execution_count": null,
   "id": "f089d4cb",
   "metadata": {},
   "outputs": [],
   "source": []
  }
 ],
 "metadata": {
  "kernelspec": {
   "display_name": "Python 3 (ipykernel)",
   "language": "python",
   "name": "python3"
  },
  "language_info": {
   "codemirror_mode": {
    "name": "ipython",
    "version": 3
   },
   "file_extension": ".py",
   "mimetype": "text/x-python",
   "name": "python",
   "nbconvert_exporter": "python",
   "pygments_lexer": "ipython3",
   "version": "3.9.7"
  }
 },
 "nbformat": 4,
 "nbformat_minor": 5
}
